{
 "cells": [
  {
   "cell_type": "markdown",
   "metadata": {},
   "source": [
    "# Advanced Python Concepts #\n",
    "### A workshop by Ryan Handley ###\n",
    "\n",
    "Welcome back!  In today's session we're going to tackle advanced programming concepts in python.  In this session, we'll discuss:\n",
    "\n",
    "- Object Oriented Programing (OOP)\n",
    "    - Classes\n",
    "    - Inheritance\n",
    "    - Polymorphism\n",
    "    - Encapsulation\n",
    "    - Abstraction\n",
    "- Advanced Data Structures and Algorithms\n",
    "    - Linked Lists\n",
    "        - Singly Linked List\n",
    "        - Doubly Linked List\n",
    "    - Trees\n",
    "        - Binary\n",
    "        - AVL\n",
    "    - Graphs & Traversal Algorithms\n",
    "        - Djikstra's Algorithm\n",
    "        - A* Algorithm"
   ]
  },
  {
   "cell_type": "markdown",
   "metadata": {},
   "source": [
    "## OOP ##\n",
    "### Defining Classes & Instantiating objects ###"
   ]
  },
  {
   "cell_type": "code",
   "execution_count": null,
   "metadata": {},
   "outputs": [],
   "source": [
    "# Define a Dog class with attributes and methods\n",
    "class Dog:\n",
    "    def __init__(self, name, age):\n",
    "        self.name = name\n",
    "        self.age = age\n",
    "\n",
    "    def bark(self):\n",
    "        return f\"{self.name} says woof!\"\n",
    "\n",
    "# Create an instance of the Dog class\n",
    "my_dog = Dog(\"Rex\", 2)\n",
    "print(my_dog.name)  # Output: Rex\n",
    "print(my_dog.bark())  # Output: Rex says woof!\n"
   ]
  },
  {
   "cell_type": "markdown",
   "metadata": {},
   "source": [
    "### Inheritance ###"
   ]
  },
  {
   "cell_type": "code",
   "execution_count": null,
   "metadata": {},
   "outputs": [],
   "source": [
    "# Define a parent class Animal and child classes Dog and Cat\n",
    "class Animal:\n",
    "    def __init__(self, name):\n",
    "        self.name = name\n",
    "\n",
    "    def speak(self):\n",
    "        pass\n",
    "\n",
    "class Dog(Animal):\n",
    "    def speak(self):\n",
    "        return f\"{self.name} says woof!\"\n",
    "\n",
    "class Cat(Animal):\n",
    "    def speak(self):\n",
    "        return f\"{self.name} says meow!\"\n",
    "\n",
    "# Create instances of Dog and Cat\n",
    "dog = Dog(\"Rex\")\n",
    "cat = Cat(\"Whiskers\")\n",
    "print(dog.speak())  # Output: Rex says woof!\n",
    "print(cat.speak())  # Output: Whiskers says meow!\n"
   ]
  }
 ],
 "metadata": {
  "language_info": {
   "name": "python"
  }
 },
 "nbformat": 4,
 "nbformat_minor": 2
}
