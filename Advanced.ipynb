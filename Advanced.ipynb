{
 "cells": [
  {
   "cell_type": "markdown",
   "metadata": {},
   "source": [
    "# Advanced Python Concepts #\n",
    "### A workshop by Ryan Handley ###\n",
    "\n",
    "Welcome back!  In today's session we're going to tackle advanced programming concepts in python.  In this session, we'll discuss:\n",
    "\n",
    "- Object Oriented Programing (OOP)\n",
    "    - Classes\n",
    "    - Inheritance\n",
    "    - Polymorphism\n",
    "    - Encapsulation\n",
    "    - Abstraction\n",
    "- Advanced Data Structures and Algorithms\n",
    "    - Linked Lists\n",
    "        - Singly Linked List\n",
    "        - Doubly Linked List\n",
    "    - Trees\n",
    "        - Binary\n",
    "        - AVL\n",
    "    - Graphs & Traversal Algorithms\n",
    "        - Djikstra's Algorithm\n",
    "        - A* Algorithm"
   ]
  },
  {
   "cell_type": "code",
   "execution_count": null,
   "metadata": {},
   "outputs": [],
   "source": []
  }
 ],
 "metadata": {
  "language_info": {
   "name": "python"
  }
 },
 "nbformat": 4,
 "nbformat_minor": 2
}
